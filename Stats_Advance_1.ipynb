{
  "nbformat": 4,
  "nbformat_minor": 0,
  "metadata": {
    "colab": {
      "provenance": []
    },
    "kernelspec": {
      "name": "python3",
      "display_name": "Python 3"
    },
    "language_info": {
      "name": "python"
    }
  },
  "cells": [
    {
      "cell_type": "markdown",
      "source": [
        "**THEORETICAL QUESTIONS**"
      ],
      "metadata": {
        "id": "arnexIJ5BX24"
      }
    },
    {
      "cell_type": "markdown",
      "source": [
        "1. What is a random variable in probability theory?\n",
        "A random variable is a numerical outcome of a random phenomenon. It assigns a real number to each outcome in a sample space.\n",
        "\n",
        "2. What are the types of random variables?\n",
        "Discrete Random Variable: Takes countable values (e.g., 0, 1, 2,...).\n",
        "\n",
        "Continuous Random Variable: Takes any value in an interval (e.g., height, weight).\n",
        "\n",
        "3. What is the difference between discrete and continuous distributions?\n",
        "Discrete distribution deals with countable outcomes.\n",
        "\n",
        "Continuous distribution deals with outcomes over a continuous range.\n",
        "\n",
        "4. What are probability distribution functions (PDF)?\n",
        "PDFs describe the probability of a random variable taking specific values. For continuous variables, PDF gives the probability density, not the actual probability.\n",
        "\n",
        "5. How do cumulative distribution functions (CDF) differ from PDF?\n",
        "CDF gives the probability that a random variable is less than or equal to a certain value.\n",
        "\n",
        "PDF gives the density at a specific value.\n",
        "\n",
        "6. What is a discrete uniform distribution?\n",
        "It assigns equal probabilities to a finite set of outcomes (e.g., rolling a fair die).\n",
        "\n",
        "7. What are the key properties of a Bernoulli distribution?\n",
        "Only two outcomes: success (1) and failure (0).\n",
        "\n",
        "Defined by a single parameter\n",
        "𝑝\n",
        "p, the probability of success.\n",
        "\n",
        "8. What is the binomial distribution, and how is it used in probability?\n",
        "It models the number of successes in\n",
        "𝑛\n",
        "n independent Bernoulli trials with probability\n",
        "𝑝\n",
        "p of success.\n",
        "\n",
        "9. What is the Poisson distribution and where is it applied?\n",
        "It models the number of events occurring in a fixed interval of time/space, given a known average rate and independent occurrences.\n",
        "\n",
        "10. What is a continuous uniform distribution?\n",
        "It assigns equal probability density to all values in a continuous interval\n",
        "[\n",
        "𝑎\n",
        ",\n",
        "𝑏\n",
        "]\n",
        "[a,b].\n",
        "\n",
        "11. What are the characteristics of a normal distribution?\n",
        "Symmetrical bell-shaped curve.\n",
        "\n",
        "Mean = median = mode.\n",
        "\n",
        "Defined by mean\n",
        "𝜇\n",
        "μ and standard deviation\n",
        "𝜎\n",
        "σ.\n",
        "\n",
        "12. What is the standard normal distribution, and why is it important?\n",
        "A normal distribution with mean 0 and standard deviation 1. It simplifies calculations using Z-scores and is used in statistical inference.\n",
        "\n",
        "13. What is the Central Limit Theorem (CLT), and why is it critical in statistics?\n",
        "CLT states that the sampling distribution of the sample mean approaches a normal distribution as the sample size increases, regardless of the population's distribution. It’s vital for hypothesis testing and confidence intervals.\n",
        "\n",
        "14. How does the Central Limit Theorem relate to the normal distribution?\n",
        "It justifies using the normal distribution for inference about sample means, even when the population is not normally distributed.\n",
        "\n",
        "15. What is the application of Z statistics in hypothesis testing?\n",
        "Z-statistics measure how many standard deviations an element is from the mean, used to determine p-values and test hypotheses.\n",
        "\n",
        "16. How do you calculate a Z-score, and what does it represent?\n",
        "𝑍\n",
        "=\n",
        "(\n",
        "𝑋\n",
        "−\n",
        "𝜇\n",
        ")\n",
        "𝜎\n",
        "Z=\n",
        "σ\n",
        "(X−μ)\n",
        "​\n",
        "\n",
        "It shows how far a data point is from the mean in terms of standard deviations.\n",
        "\n",
        "17. What are point estimates and interval estimates in statistics?\n",
        "Point estimate: A single value estimate of a parameter (e.g., sample mean).\n",
        "\n",
        "Interval estimate: A range (like a confidence interval) that likely contains the parameter.\n",
        "\n",
        "18. What is the significance of confidence intervals in statistical analysis?\n",
        "They provide a range within which the true population parameter likely lies, indicating estimation precision.\n",
        "\n",
        "19. What is the relationship between a Z-score and a confidence interval?\n",
        "Z-scores determine the critical values used to construct confidence intervals (e.g., Z = 1.96 for 95%).\n",
        "\n",
        "20. How are Z-scores used to compare different distributions?\n",
        "They standardize different datasets to a common scale, allowing direct comparisons regardless of units or means.\n",
        "\n",
        "21. What are the assumptions for applying the Central Limit Theorem?\n",
        "Samples are independent.\n",
        "\n",
        "Sample size is sufficiently large (typically n ≥ 30).\n",
        "\n",
        "Population has a finite variance.\n",
        "\n",
        "22. What is the concept of expected value in a probability distribution?\n",
        "It is the long-run average or mean value of repetitions of the experiment.\n",
        "\n",
        "23. How does a probability distribution relate to the expected outcome of a random variable?\n",
        "\n",
        "The expected value is the weighted average of all possible values that a random variable can take, based on the probability distribution.\n",
        "\n"
      ],
      "metadata": {
        "id": "SoYahYk0BZPC"
      }
    },
    {
      "cell_type": "markdown",
      "source": [
        "**PRACTICAL QUESTIONS**"
      ],
      "metadata": {
        "id": "6LIMMzvQBZwX"
      }
    },
    {
      "cell_type": "markdown",
      "source": [
        "1️. Write a Python program to generate a random variable and display its value"
      ],
      "metadata": {
        "id": "YhgI4iq7BaWc"
      }
    },
    {
      "cell_type": "code",
      "execution_count": null,
      "metadata": {
        "id": "n6OaHPASBAl_"
      },
      "outputs": [],
      "source": [
        "import numpy as np\n",
        "\n",
        "random_variable = np.random.rand()\n",
        "print(f\"Random variable: {random_variable}\")\n"
      ]
    },
    {
      "cell_type": "markdown",
      "source": [
        "2️. Generate a discrete uniform distribution using Python and plot the probability mass function (PMF)"
      ],
      "metadata": {
        "id": "vCutxEZnBmJ7"
      }
    },
    {
      "cell_type": "code",
      "source": [
        "import matplotlib.pyplot as plt\n",
        "from scipy.stats import randint\n",
        "import numpy as np\n",
        "\n",
        "x = np.arange(1, 7)\n",
        "pmf = randint.pmf(x, 1, 7)\n",
        "\n",
        "plt.stem(x, pmf, use_line_collection=True)\n",
        "plt.title(\"PMF of Discrete Uniform Distribution (1 to 6)\")\n",
        "plt.xlabel(\"Outcome\")\n",
        "plt.ylabel(\"Probability\")\n",
        "plt.grid()\n",
        "plt.show()\n"
      ],
      "metadata": {
        "id": "SPrnysEpBmTl"
      },
      "execution_count": null,
      "outputs": []
    },
    {
      "cell_type": "markdown",
      "source": [
        "3️. Write a Python function to calculate the probability distribution function (PDF) of a Bernoulli distribution"
      ],
      "metadata": {
        "id": "uvclBayjBmfe"
      }
    },
    {
      "cell_type": "code",
      "source": [
        "from scipy.stats import bernoulli\n",
        "\n",
        "def bernoulli_pdf(p):\n",
        "    x = [0, 1]\n",
        "    pdf = bernoulli.pmf(x, p)\n",
        "    for xi, pi in zip(x, pdf):\n",
        "        print(f\"P(X={xi}) = {pi}\")\n",
        "\n",
        "bernoulli_pdf(0.3)\n"
      ],
      "metadata": {
        "id": "iPBPbqgeBmo7"
      },
      "execution_count": null,
      "outputs": []
    },
    {
      "cell_type": "markdown",
      "source": [
        "4️. Write a Python script to simulate a binomial distribution with n=10 and p=0.5, then plot its histogram"
      ],
      "metadata": {
        "id": "fc0tBgUpBm2L"
      }
    },
    {
      "cell_type": "code",
      "source": [
        "from scipy.stats import binom\n",
        "import matplotlib.pyplot as plt\n",
        "import numpy as np\n",
        "\n",
        "n, p = 10, 0.5\n",
        "data = binom.rvs(n, p, size=1000)\n",
        "\n",
        "plt.hist(data, bins=np.arange(-0.5, 11.5, 1), edgecolor='black', color='skyblue')\n",
        "plt.title(\"Binomial Distribution Histogram (n=10, p=0.5)\")\n",
        "plt.xlabel(\"Number of Successes\")\n",
        "plt.ylabel(\"Frequency\")\n",
        "plt.show()\n"
      ],
      "metadata": {
        "id": "AgmRsiuEBm_2"
      },
      "execution_count": null,
      "outputs": []
    },
    {
      "cell_type": "markdown",
      "source": [
        "5️. Create a Poisson distribution and visualize it using Python"
      ],
      "metadata": {
        "id": "EReVVAsNBnJG"
      }
    },
    {
      "cell_type": "code",
      "source": [
        "from scipy.stats import poisson\n",
        "import matplotlib.pyplot as plt\n",
        "import numpy as np\n",
        "\n",
        "mu = 3\n",
        "x = np.arange(0, 10)\n",
        "pmf = poisson.pmf(x, mu)\n",
        "\n",
        "plt.stem(x, pmf, basefmt=\" \", use_line_collection=True)\n",
        "plt.title(\"Poisson Distribution (mu=3)\")\n",
        "plt.xlabel(\"k\")\n",
        "plt.ylabel(\"P(X=k)\")\n",
        "plt.grid()\n",
        "plt.show()\n"
      ],
      "metadata": {
        "id": "iFMa4u0oBnRf"
      },
      "execution_count": null,
      "outputs": []
    },
    {
      "cell_type": "markdown",
      "source": [
        "6️. Write a Python program to calculate and plot the cumulative distribution function (CDF) of a discrete uniform distribution"
      ],
      "metadata": {
        "id": "LtMdG0C6Bna6"
      }
    },
    {
      "cell_type": "code",
      "source": [
        "from scipy.stats import randint\n",
        "import matplotlib.pyplot as plt\n",
        "import numpy as np\n",
        "\n",
        "x = np.arange(1, 7)\n",
        "cdf = randint.cdf(x, 1, 7)\n",
        "\n",
        "plt.step(x, cdf, where='mid')\n",
        "plt.title(\"CDF of Discrete Uniform Distribution\")\n",
        "plt.xlabel(\"x\")\n",
        "plt.ylabel(\"Cumulative Probability\")\n",
        "plt.grid()\n",
        "plt.show()\n"
      ],
      "metadata": {
        "id": "RN_QidAuBnkU"
      },
      "execution_count": null,
      "outputs": []
    },
    {
      "cell_type": "markdown",
      "source": [
        "7️. Generate a continuous uniform distribution using NumPy and visualize it"
      ],
      "metadata": {
        "id": "DBQMfV6pBns3"
      }
    },
    {
      "cell_type": "code",
      "source": [
        "import numpy as np\n",
        "import matplotlib.pyplot as plt\n",
        "\n",
        "data = np.random.uniform(0, 1, 1000)\n",
        "\n",
        "plt.hist(data, bins=30, color='orange', edgecolor='black', density=True)\n",
        "plt.title(\"Histogram of Continuous Uniform Distribution\")\n",
        "plt.xlabel(\"Value\")\n",
        "plt.ylabel(\"Density\")\n",
        "plt.grid()\n",
        "plt.show()\n"
      ],
      "metadata": {
        "id": "xZOUsgKrBn1w"
      },
      "execution_count": null,
      "outputs": []
    },
    {
      "cell_type": "markdown",
      "source": [
        "8️. Simulate data from a normal distribution and plot its histogram"
      ],
      "metadata": {
        "id": "LDHI_ubEBn_I"
      }
    },
    {
      "cell_type": "code",
      "source": [
        "import numpy as np\n",
        "import matplotlib.pyplot as plt\n",
        "\n",
        "data = np.random.normal(loc=0, scale=1, size=1000)\n",
        "\n",
        "plt.hist(data, bins=30, color='lightgreen', edgecolor='black', density=True)\n",
        "plt.title(\"Histogram of Normal Distribution\")\n",
        "plt.xlabel(\"Value\")\n",
        "plt.ylabel(\"Density\")\n",
        "plt.grid()\n",
        "plt.show()\n"
      ],
      "metadata": {
        "id": "UThuqz-bBqDb"
      },
      "execution_count": null,
      "outputs": []
    },
    {
      "cell_type": "markdown",
      "source": [
        "9️. Write a Python function to calculate Z-scores from a dataset and plot them"
      ],
      "metadata": {
        "id": "sqfFlD5tBoID"
      }
    },
    {
      "cell_type": "code",
      "source": [
        "import numpy as np\n",
        "import matplotlib.pyplot as plt\n",
        "from scipy.stats import zscore\n",
        "\n",
        "data = np.random.normal(50, 10, 100)\n",
        "z_scores = zscore(data)\n",
        "\n",
        "plt.plot(z_scores, marker='o', linestyle='', color='blue')\n",
        "plt.axhline(y=0, color='red', linestyle='--')\n",
        "plt.title(\"Z-scores of Dataset\")\n",
        "plt.xlabel(\"Index\")\n",
        "plt.ylabel(\"Z-score\")\n",
        "plt.grid()\n",
        "plt.show()\n"
      ],
      "metadata": {
        "id": "Yl5j4-VzBrCY"
      },
      "execution_count": null,
      "outputs": []
    },
    {
      "cell_type": "markdown",
      "source": [
        "10. Implement the Central Limit Theorem (CLT) using Python for a non-normal distribution"
      ],
      "metadata": {
        "id": "fgyMK8a0BrTx"
      }
    },
    {
      "cell_type": "code",
      "source": [
        "import numpy as np\n",
        "import matplotlib.pyplot as plt\n",
        "\n",
        "means = []\n",
        "\n",
        "# Non-normal population: exponential\n",
        "for _ in range(1000):\n",
        "    sample = np.random.exponential(scale=2.0, size=30)\n",
        "    means.append(np.mean(sample))\n",
        "\n",
        "plt.hist(means, bins=30, color='purple', edgecolor='black')\n",
        "plt.title(\"CLT: Sampling Distribution of Mean from Exponential Distribution\")\n",
        "plt.xlabel(\"Sample Mean\")\n",
        "plt.ylabel(\"Frequency\")\n",
        "plt.grid()\n",
        "plt.show()\n"
      ],
      "metadata": {
        "id": "1ue8L8olBrf2"
      },
      "execution_count": null,
      "outputs": []
    },
    {
      "cell_type": "markdown",
      "source": [
        "15. Simulate multiple samples from a normal distribution and verify the Central Limit Theorem"
      ],
      "metadata": {
        "id": "zTGVD6akBr0Y"
      }
    },
    {
      "cell_type": "code",
      "source": [
        "import numpy as np\n",
        "import matplotlib.pyplot as plt\n",
        "\n",
        "means = []\n",
        "for _ in range(1000):\n",
        "    sample = np.random.normal(loc=50, scale=10, size=30)\n",
        "    means.append(np.mean(sample))\n",
        "\n",
        "plt.hist(means, bins=30, color='skyblue', edgecolor='black')\n",
        "plt.title(\"Sampling Distribution of the Mean (CLT)\")\n",
        "plt.xlabel(\"Sample Mean\")\n",
        "plt.ylabel(\"Frequency\")\n",
        "plt.show()\n"
      ],
      "metadata": {
        "id": "wYhoIexeBr90"
      },
      "execution_count": null,
      "outputs": []
    },
    {
      "cell_type": "markdown",
      "source": [
        "16. Write a Python function to calculate and plot the standard normal distribution (mean = 0, std = 1)"
      ],
      "metadata": {
        "id": "CjG1GZJkBsHs"
      }
    },
    {
      "cell_type": "code",
      "source": [
        "from scipy.stats import norm\n",
        "\n",
        "x = np.linspace(-4, 4, 1000)\n",
        "y = norm.pdf(x, 0, 1)\n",
        "\n",
        "plt.plot(x, y)\n",
        "plt.title(\"Standard Normal Distribution\")\n",
        "plt.xlabel(\"Z\")\n",
        "plt.ylabel(\"Density\")\n",
        "plt.grid()\n",
        "plt.show()\n"
      ],
      "metadata": {
        "id": "q1W41u_2BsRy"
      },
      "execution_count": null,
      "outputs": []
    },
    {
      "cell_type": "markdown",
      "source": [
        "17. Generate random variables and calculate their corresponding probabilities using the binomial distribution"
      ],
      "metadata": {
        "id": "T0SFcXRoBsaf"
      }
    },
    {
      "cell_type": "code",
      "source": [
        "from scipy.stats import binom\n",
        "\n",
        "n, p = 10, 0.5\n",
        "x = np.arange(0, n+1)\n",
        "pmf = binom.pmf(x, n, p)\n",
        "\n",
        "for val, prob in zip(x, pmf):\n",
        "    print(f\"P(X={val}) = {prob:.4f}\")\n"
      ],
      "metadata": {
        "colab": {
          "base_uri": "https://localhost:8080/",
          "height": 211
        },
        "id": "DoQrpfqXBskE",
        "outputId": "6571a2a3-bb8d-4c52-b9fe-6b7931df5186"
      },
      "execution_count": 1,
      "outputs": [
        {
          "output_type": "error",
          "ename": "NameError",
          "evalue": "name 'np' is not defined",
          "traceback": [
            "\u001b[0;31m---------------------------------------------------------------------------\u001b[0m",
            "\u001b[0;31mNameError\u001b[0m                                 Traceback (most recent call last)",
            "\u001b[0;32m<ipython-input-1-be31fff4943f>\u001b[0m in \u001b[0;36m<cell line: 0>\u001b[0;34m()\u001b[0m\n\u001b[1;32m      2\u001b[0m \u001b[0;34m\u001b[0m\u001b[0m\n\u001b[1;32m      3\u001b[0m \u001b[0mn\u001b[0m\u001b[0;34m,\u001b[0m \u001b[0mp\u001b[0m \u001b[0;34m=\u001b[0m \u001b[0;36m10\u001b[0m\u001b[0;34m,\u001b[0m \u001b[0;36m0.5\u001b[0m\u001b[0;34m\u001b[0m\u001b[0;34m\u001b[0m\u001b[0m\n\u001b[0;32m----> 4\u001b[0;31m \u001b[0mx\u001b[0m \u001b[0;34m=\u001b[0m \u001b[0mnp\u001b[0m\u001b[0;34m.\u001b[0m\u001b[0marange\u001b[0m\u001b[0;34m(\u001b[0m\u001b[0;36m0\u001b[0m\u001b[0;34m,\u001b[0m \u001b[0mn\u001b[0m\u001b[0;34m+\u001b[0m\u001b[0;36m1\u001b[0m\u001b[0;34m)\u001b[0m\u001b[0;34m\u001b[0m\u001b[0;34m\u001b[0m\u001b[0m\n\u001b[0m\u001b[1;32m      5\u001b[0m \u001b[0mpmf\u001b[0m \u001b[0;34m=\u001b[0m \u001b[0mbinom\u001b[0m\u001b[0;34m.\u001b[0m\u001b[0mpmf\u001b[0m\u001b[0;34m(\u001b[0m\u001b[0mx\u001b[0m\u001b[0;34m,\u001b[0m \u001b[0mn\u001b[0m\u001b[0;34m,\u001b[0m \u001b[0mp\u001b[0m\u001b[0;34m)\u001b[0m\u001b[0;34m\u001b[0m\u001b[0;34m\u001b[0m\u001b[0m\n\u001b[1;32m      6\u001b[0m \u001b[0;34m\u001b[0m\u001b[0m\n",
            "\u001b[0;31mNameError\u001b[0m: name 'np' is not defined"
          ]
        }
      ]
    },
    {
      "cell_type": "markdown",
      "source": [
        "18. Write a Python program to calculate the Z-score for a given data point and compare it to a standard normal distribution"
      ],
      "metadata": {
        "id": "_zVgcnG0Bste"
      }
    },
    {
      "cell_type": "code",
      "source": [
        "def z_score(x, mu, sigma):\n",
        "    return (x - mu) / sigma\n",
        "\n",
        "data_point = 75\n",
        "mean = 70\n",
        "std_dev = 5\n",
        "z = z_score(data_point, mean, std_dev)\n",
        "print(f\"Z-score: {z:.2f}\")\n"
      ],
      "metadata": {
        "id": "vgMEClmyBs24"
      },
      "execution_count": null,
      "outputs": []
    },
    {
      "cell_type": "markdown",
      "source": [
        "19. Implement hypothesis testing using Z-statistics for a sample dataset"
      ],
      "metadata": {
        "id": "5M_bXgo6BtAs"
      }
    },
    {
      "cell_type": "code",
      "source": [
        "from scipy.stats import norm\n",
        "\n",
        "sample_mean = 52\n",
        "pop_mean = 50\n",
        "pop_std = 5\n",
        "n = 30\n",
        "\n",
        "z = (sample_mean - pop_mean) / (pop_std / np.sqrt(n))\n",
        "p_value = 1 - norm.cdf(z)\n",
        "print(f\"Z = {z:.2f}, p-value = {p_value:.4f}\")\n"
      ],
      "metadata": {
        "id": "Qx_DOHtqBtKt"
      },
      "execution_count": null,
      "outputs": []
    },
    {
      "cell_type": "markdown",
      "source": [
        "20. Create a confidence interval for a dataset using Python and interpret the result"
      ],
      "metadata": {
        "id": "RqRmw0iuBtTh"
      }
    },
    {
      "cell_type": "code",
      "source": [
        "import scipy.stats as stats\n",
        "\n",
        "data = np.random.normal(100, 15, 50)\n",
        "mean = np.mean(data)\n",
        "sem = stats.sem(data)\n",
        "ci = stats.t.interval(0.95, len(data)-1, loc=mean, scale=sem)\n",
        "print(f\"95% Confidence Interval: {ci}\")\n"
      ],
      "metadata": {
        "id": "dWCV16UDBtdm"
      },
      "execution_count": null,
      "outputs": []
    },
    {
      "cell_type": "markdown",
      "source": [
        "21. Generate data from a normal distribution, then calculate and interpret the confidence interval for its mean"
      ],
      "metadata": {
        "id": "KZ_FWxAYBtmK"
      }
    },
    {
      "cell_type": "code",
      "source": [
        "data = np.random.normal(60, 10, 100)\n",
        "mean = np.mean(data)\n",
        "sem = stats.sem(data)\n",
        "ci = stats.t.interval(0.95, df=len(data)-1, loc=mean, scale=sem)\n",
        "print(f\"Mean: {mean:.2f}, 95% CI: {ci}\")\n"
      ],
      "metadata": {
        "id": "5I-OQFLvBtxt"
      },
      "execution_count": null,
      "outputs": []
    },
    {
      "cell_type": "markdown",
      "source": [
        "22. Write a Python script to calculate and visualize the probability density function (PDF) of a normal distribution"
      ],
      "metadata": {
        "id": "hwsPqkLDBt7W"
      }
    },
    {
      "cell_type": "code",
      "source": [
        "mu, sigma = 0, 1\n",
        "x = np.linspace(-4, 4, 1000)\n",
        "y = norm.pdf(x, mu, sigma)\n",
        "\n",
        "plt.plot(x, y)\n",
        "plt.title(\"PDF of Normal Distribution\")\n",
        "plt.xlabel(\"x\")\n",
        "plt.ylabel(\"Probability Density\")\n",
        "plt.grid()\n",
        "plt.show()\n"
      ],
      "metadata": {
        "id": "siAMNntFBuEv"
      },
      "execution_count": null,
      "outputs": []
    },
    {
      "cell_type": "markdown",
      "source": [
        "23. Use Python to calculate and interpret the cumulative distribution function (CDF) of a Poisson distribution"
      ],
      "metadata": {
        "id": "ULYHwZ9lBuOE"
      }
    },
    {
      "cell_type": "code",
      "source": [
        "from scipy.stats import poisson\n",
        "\n",
        "mu = 3\n",
        "x = np.arange(0, 10)\n",
        "cdf = poisson.cdf(x, mu)\n",
        "\n",
        "plt.step(x, cdf, where='mid')\n",
        "plt.title(\"CDF of Poisson Distribution (μ=3)\")\n",
        "plt.xlabel(\"x\")\n",
        "plt.ylabel(\"CDF\")\n",
        "plt.grid()\n",
        "plt.show()\n"
      ],
      "metadata": {
        "id": "ztGVbQa6BuXQ"
      },
      "execution_count": null,
      "outputs": []
    },
    {
      "cell_type": "markdown",
      "source": [
        "24. Simulate a random variable using a continuous uniform distribution and calculate its expected value"
      ],
      "metadata": {
        "id": "ds8JRRqOBuiD"
      }
    },
    {
      "cell_type": "code",
      "source": [
        "data = np.random.uniform(10, 50, 1000)\n",
        "expected_value = np.mean(data)\n",
        "print(f\"Expected Value: {expected_value:.2f}\")\n"
      ],
      "metadata": {
        "id": "dGu6hEcFBurz"
      },
      "execution_count": null,
      "outputs": []
    },
    {
      "cell_type": "markdown",
      "source": [
        "25. Write a Python program to compare the standard deviations of two datasets and visualize the difference\n"
      ],
      "metadata": {
        "id": "l4HWrqiPBu2I"
      }
    },
    {
      "cell_type": "code",
      "source": [
        "data1 = np.random.normal(50, 5, 1000)\n",
        "data2 = np.random.normal(50, 10, 1000)\n",
        "\n",
        "std1, std2 = np.std(data1), np.std(data2)\n",
        "print(f\"Standard Deviation - Data1: {std1:.2f}, Data2: {std2:.2f}\")\n",
        "\n",
        "plt.hist(data1, alpha=0.5, label='Std Dev 5')\n",
        "plt.hist(data2, alpha=0.5, label='Std Dev 10')\n",
        "plt.legend()\n",
        "plt.title(\"Comparison of Standard Deviations\")\n",
        "plt.show()\n"
      ],
      "metadata": {
        "id": "cg2REtanBu_l"
      },
      "execution_count": null,
      "outputs": []
    },
    {
      "cell_type": "markdown",
      "source": [
        "26. Calculate the range and interquartile range (IQR) of a dataset generated from a normal distribution"
      ],
      "metadata": {
        "id": "y4qZW6taBvJO"
      }
    },
    {
      "cell_type": "code",
      "source": [
        "data = np.random.normal(100, 20, 1000)\n",
        "range_val = np.max(data) - np.min(data)\n",
        "iqr = np.percentile(data, 75) - np.percentile(data, 25)\n",
        "print(f\"Range: {range_val:.2f}, IQR: {iqr:.2f}\")\n"
      ],
      "metadata": {
        "id": "vyLeBiIWBvSX"
      },
      "execution_count": null,
      "outputs": []
    },
    {
      "cell_type": "markdown",
      "source": [
        "27. Implement Z-score normalization on a dataset and visualize its transformation"
      ],
      "metadata": {
        "id": "GJlxyzlpBvoV"
      }
    },
    {
      "cell_type": "code",
      "source": [
        "from sklearn.preprocessing import StandardScaler\n",
        "\n",
        "data = np.random.normal(60, 15, 1000).reshape(-1, 1)\n",
        "scaler = StandardScaler()\n",
        "normalized_data = scaler.fit_transform(data)\n",
        "\n",
        "plt.hist(normalized_data, bins=30)\n",
        "plt.title(\"Z-score Normalized Data\")\n",
        "plt.show()\n"
      ],
      "metadata": {
        "id": "77gEd66TBvzA"
      },
      "execution_count": null,
      "outputs": []
    },
    {
      "cell_type": "markdown",
      "source": [
        "28. Write a Python function to calculate the skewness and kurtosis of a dataset generated from a normal distribution"
      ],
      "metadata": {
        "id": "3dTiihSWBv8w"
      }
    },
    {
      "cell_type": "code",
      "source": [
        "from scipy.stats import skew, kurtosis\n",
        "\n",
        "data = np.random.normal(0, 1, 1000)\n",
        "print(f\"Skewness: {skew(data):.2f}\")\n",
        "print(f\"Kurtosis: {kurtosis(data):.2f}\")\n"
      ],
      "metadata": {
        "id": "p7A1X4YMBwGZ"
      },
      "execution_count": null,
      "outputs": []
    }
  ]
}